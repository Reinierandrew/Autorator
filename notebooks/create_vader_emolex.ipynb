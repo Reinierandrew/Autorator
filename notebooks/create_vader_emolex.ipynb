{
 "cells": [
  {
   "cell_type": "code",
   "execution_count": 1,
   "outputs": [],
   "source": [
    "import string\n",
    "import csv\n",
    "import pandas as pd\n",
    "from nltk.corpus import stopwords\n",
    "from nltk.tokenize import word_tokenize\n",
    "from nltk.sentiment.vader import SentimentIntensityAnalyzer"
   ],
   "metadata": {
    "collapsed": false
   }
  },
  {
   "cell_type": "code",
   "execution_count": 2,
   "outputs": [],
   "source": [
    "# set up emolex analysis\n",
    "emolex_df = pd.read_csv('../data/NRC-Emotion-Lexicon-Wordlevel-v0.92.txt', sep='\\t', names=['word', 'emotion','association'])\n",
    "emolex_df = emolex_df[emolex_df.association == 1]\n",
    "emolex_words = emolex_df.pivot(index='word', columns='emotion', values='association')\n",
    "emolex_words = emolex_words.reset_index()"
   ],
   "metadata": {
    "collapsed": false
   }
  },
  {
   "cell_type": "code",
   "execution_count": 3,
   "outputs": [],
   "source": [
    "def count_emotions(text):\n",
    "\n",
    "    text = text.translate(str.maketrans('', '', string.punctuation)).lower()\n",
    "    words = text.split()\n",
    "    stop_words = set(stopwords.words('english'))\n",
    "\n",
    "    words = [word for word in words if word not in stop_words]\n",
    "    emotions_count = emolex_words[emolex_words.word.isin(words)].sum()\n",
    "    emotions_count['word_count'] = len(words)\n",
    "\n",
    "    return emotions_count"
   ],
   "metadata": {
    "collapsed": false
   }
  },
  {
   "cell_type": "code",
   "execution_count": 4,
   "outputs": [],
   "source": [
    "# read the restaurant dataset with vader scores\n",
    "df = pd.read_csv('../output/large_output/filtered_full.csv')"
   ],
   "metadata": {
    "collapsed": false
   }
  },
  {
   "cell_type": "code",
   "execution_count": 5,
   "outputs": [],
   "source": [
    "# run the emolex analysis on the dataframe and add to the dataframe\n",
    "emotions_count = df['text'].apply(count_emotions)\n",
    "emolex = pd.concat([df, emotions_count], axis=1)"
   ],
   "metadata": {
    "collapsed": false
   }
  },
  {
   "cell_type": "code",
   "execution_count": 6,
   "outputs": [],
   "source": [
    "emolex.rename(columns={'Unnamed: 0': 'Record'}, inplace=True)"
   ],
   "metadata": {
    "collapsed": false
   }
  },
  {
   "cell_type": "code",
   "execution_count": 7,
   "outputs": [],
   "source": [
    "# set index to review id and drop columns not required\n",
    "emolex = emolex.reset_index()\n",
    "emolex = emolex.set_index('Record')\n",
    "emolex.drop(['index'], axis=1, inplace=True)"
   ],
   "metadata": {
    "collapsed": false
   }
  },
  {
   "cell_type": "code",
   "execution_count": 8,
   "outputs": [],
   "source": [
    "emolex.to_csv('../output/large_output/emolex.csv')"
   ],
   "metadata": {
    "collapsed": false
   }
  },
  {
   "cell_type": "code",
   "execution_count": 9,
   "outputs": [],
   "source": [
    "sid = SentimentIntensityAnalyzer()\n",
    "output_rows = []\n",
    "with open('../output/large_output/emolex.csv', 'r') as file:\n",
    "    reader = csv.DictReader(file)\n",
    "\n",
    "    for row in reader:\n",
    "        stars = row['stars']\n",
    "        review_id = row['Record']\n",
    "        text = row['text']\n",
    "        sentiment_scores = sid.polarity_scores(text)\n",
    "        compound_score = sentiment_scores['compound']\n",
    "        positive_score = sentiment_scores['pos']\n",
    "        neutral_score = sentiment_scores['neu']\n",
    "        negative_score = sentiment_scores['neg']\n",
    "        output_row = {'review_id':review_id,'text':text, 'stars':stars, 'compound_sentiment': compound_score, 'positive': positive_score,'neutral': neutral_score, 'negative': negative_score}\n",
    "        output_rows.append(output_row)"
   ],
   "metadata": {
    "collapsed": false
   }
  },
  {
   "cell_type": "code",
   "execution_count": 10,
   "outputs": [],
   "source": [
    "vader = pd.DataFrame(output_rows)\n",
    "vader.to_csv('../output/large_output/vader.csv')"
   ],
   "metadata": {
    "collapsed": false
   }
  },
  {
   "cell_type": "code",
   "execution_count": 11,
   "outputs": [],
   "source": [
    "vader.drop(['text','stars'], axis=1, inplace=True)"
   ],
   "metadata": {
    "collapsed": false
   }
  },
  {
   "cell_type": "code",
   "execution_count": 12,
   "outputs": [],
   "source": [
    "# merge vader and emolex\n",
    "vader['review_id'] = vader['review_id'].astype('int64')\n",
    "vader_emolex = pd.merge(vader, emolex, left_on='review_id',right_on='Unnamed: 0.1')\n",
    "vader_emolex.drop(['Unnamed: 0.1'], axis=1, inplace=True)"
   ],
   "metadata": {
    "collapsed": false
   }
  },
  {
   "cell_type": "code",
   "execution_count": 13,
   "outputs": [],
   "source": [
    "vader_emolex.drop(['word','business_id'], axis=1, inplace=True)"
   ],
   "metadata": {
    "collapsed": false
   }
  },
  {
   "cell_type": "code",
   "execution_count": 14,
   "outputs": [],
   "source": [
    "vader_emolex.to_csv('../output/large_output/vader_emolex.csv')"
   ],
   "metadata": {
    "collapsed": false
   }
  },
  {
   "cell_type": "code",
   "execution_count": 15,
   "outputs": [],
   "source": [
    "# save to an excel file\n",
    "vader_emolex.to_excel('../output/large_output/vader_emolex.xlsx')"
   ],
   "metadata": {
    "collapsed": false
   }
  },
  {
   "cell_type": "code",
   "execution_count": 17,
   "outputs": [],
   "source": [
    "# remove stop words from text\n",
    "stop_words = stopwords.words('english')\n",
    "\n",
    "def remove_stopwords_punctuation(text):\n",
    "    text = text.translate(str.maketrans('', '', string.punctuation))\n",
    "    tokens = word_tokenize(text.lower())\n",
    "    stop_words = set(stopwords.words('english'))\n",
    "    filtered_tokens = [token for token in tokens if token not in stop_words]\n",
    "    text = ' '.join(filtered_tokens)\n",
    "    return text"
   ],
   "metadata": {
    "collapsed": false
   }
  },
  {
   "cell_type": "code",
   "execution_count": 18,
   "outputs": [],
   "source": [
    "vader_emolex['text'] = df['text'].apply(remove_stopwords_punctuation)"
   ],
   "metadata": {
    "collapsed": false
   }
  },
  {
   "cell_type": "code",
   "execution_count": 18,
   "outputs": [],
   "source": [
    "vader_emolex.to_excel('../output/large_output/vader_emolex.xlsx')"
   ],
   "metadata": {
    "collapsed": false
   }
  },
  {
   "cell_type": "code",
   "execution_count": 19,
   "outputs": [],
   "source": [
    "counts = vader_emolex['stars'].value_counts()"
   ],
   "metadata": {
    "collapsed": false
   }
  },
  {
   "cell_type": "code",
   "execution_count": 20,
   "outputs": [
    {
     "name": "stdout",
     "output_type": "stream",
     "text": [
      "5    39004\n",
      "4    28477\n",
      "1    14235\n",
      "3    12676\n",
      "2    10900\n",
      "Name: stars, dtype: int64\n"
     ]
    }
   ],
   "source": [
    "print(counts)"
   ],
   "metadata": {
    "collapsed": false
   }
  },
  {
   "cell_type": "code",
   "execution_count": 21,
   "outputs": [],
   "source": [
    "from collections import Counter\n",
    "grouped = vader_emolex.groupby('stars')['text'].apply(' '.join)\n",
    "results = []\n",
    "for group in grouped:\n",
    "    words = group.split()\n",
    "    counter = Counter(words)\n",
    "    top_words = dict(counter.most_common(30))\n",
    "    results.append(top_words)\n",
    "\n",
    "#create a DataFrame from the results\n",
    "df_results = pd.DataFrame(results)\n"
   ],
   "metadata": {
    "collapsed": false
   }
  },
  {
   "cell_type": "code",
   "execution_count": 22,
   "outputs": [],
   "source": [
    "# df_results = pd.DataFrame(results)\n",
    "df_results.head(50)"
   ],
   "metadata": {
    "collapsed": false
   }
  },
  {
   "cell_type": "code",
   "execution_count": 23,
   "outputs": [],
   "source": [
    "df_results.drop(['food','place','restaurant','chicken','im','sauce','ive','one'], axis=1, inplace=True)"
   ],
   "metadata": {
    "collapsed": false
   }
  },
  {
   "cell_type": "code",
   "execution_count": 24,
   "outputs": [],
   "source": [
    "df_results.head(50)"
   ],
   "metadata": {
    "collapsed": false
   }
  },
  {
   "cell_type": "code",
   "execution_count": 25,
   "outputs": [],
   "source": [
    "from collections import Counter\n",
    "\n",
    "# create a list of words from your dataframe column\n",
    "words = vader_emolex['text'].str.split(expand=True).stack().tolist()\n",
    "\n",
    "# count the most common words\n",
    "word_counts = Counter(words).most_common()"
   ],
   "metadata": {
    "collapsed": false
   }
  },
  {
   "cell_type": "code",
   "execution_count": 26,
   "outputs": [],
   "source": [
    "word_df = pd.DataFrame(word_counts, columns=['word', 'count'])"
   ],
   "metadata": {
    "collapsed": false
   }
  },
  {
   "cell_type": "code",
   "execution_count": 27,
   "outputs": [],
   "source": [
    "word_top50 = word_df.sort_values(by='count', ascending=False)[:50]"
   ],
   "metadata": {
    "collapsed": false
   }
  },
  {
   "cell_type": "code",
   "execution_count": 28,
   "outputs": [],
   "source": [
    "drop_words=['food','place','one','two','restaurant','menu','ive','im','lunch','table']"
   ],
   "metadata": {
    "collapsed": false
   }
  },
  {
   "cell_type": "code",
   "execution_count": 29,
   "outputs": [],
   "source": [
    "filtered_words = word_top50[word_top50.word.isin(drop_words) == False]"
   ],
   "metadata": {
    "collapsed": false
   }
  },
  {
   "cell_type": "code",
   "execution_count": 30,
   "outputs": [],
   "source": [
    "filtered_words.head(50)"
   ],
   "metadata": {
    "collapsed": false
   }
  },
  {
   "cell_type": "code",
   "execution_count": 31,
   "outputs": [],
   "source": [
    "filtered_words.to_excel('../output/large_output/filtered_words.xlsx')"
   ],
   "metadata": {
    "collapsed": false
   }
  },
  {
   "cell_type": "code",
   "execution_count": null,
   "outputs": [],
   "source": [],
   "metadata": {
    "collapsed": false
   }
  }
 ],
 "metadata": {
  "kernelspec": {
   "display_name": "Python 3",
   "language": "python",
   "name": "python3"
  },
  "language_info": {
   "codemirror_mode": {
    "name": "ipython",
    "version": 2
   },
   "file_extension": ".py",
   "mimetype": "text/x-python",
   "name": "python",
   "nbconvert_exporter": "python",
   "pygments_lexer": "ipython2",
   "version": "2.7.6"
  }
 },
 "nbformat": 4,
 "nbformat_minor": 0
}
